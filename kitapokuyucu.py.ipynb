{
 "cells": [
  {
   "cell_type": "code",
   "execution_count": 7,
   "id": "363f1570",
   "metadata": {},
   "outputs": [],
   "source": [
    "import pyttsx3\n",
    "import PyPDF2\n",
    "\n",
    "hikaye = open(\"okuma-metin.pdf\", \"rb\")\n",
    "pdfOkuyucu = PyPDF2.PdfFileReader(hikaye)\n",
    "\n",
    "engine = pyttsx3.init()\n",
    "voices = engine.getProperty('voices')\n",
    "\n",
    "engine.setProperty('voice', voices[0].id)\n",
    "\n",
    "for sayfa_sayısı in range (0, pdfOkuyucu.numPages):\n",
    "    sayfa = pdfOkuyucu.getPage(sayfa_sayısı)\n",
    "    yazı = sayfa.extractText()\n",
    "    engine.say(yazı)\n",
    "    engine.runAndWait()"
   ]
  }
 ],
 "metadata": {
  "kernelspec": {
   "display_name": "Python 3 (ipykernel)",
   "language": "python",
   "name": "python3"
  },
  "language_info": {
   "codemirror_mode": {
    "name": "ipython",
    "version": 3
   },
   "file_extension": ".py",
   "mimetype": "text/x-python",
   "name": "python",
   "nbconvert_exporter": "python",
   "pygments_lexer": "ipython3",
   "version": "3.9.7"
  }
 },
 "nbformat": 4,
 "nbformat_minor": 5
}
